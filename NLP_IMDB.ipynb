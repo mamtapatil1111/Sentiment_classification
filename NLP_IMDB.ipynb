{
  "nbformat": 4,
  "nbformat_minor": 0,
  "metadata": {
    "colab": {
      "name": "NLP_IMDB.ipynb",
      "provenance": [],
      "authorship_tag": "ABX9TyN3rzUJkgxxxYqC5zzw90GQ",
      "include_colab_link": true
    },
    "kernelspec": {
      "name": "python3",
      "display_name": "Python 3"
    }
  },
  "cells": [
    {
      "cell_type": "markdown",
      "metadata": {
        "id": "view-in-github",
        "colab_type": "text"
      },
      "source": [
        "<a href=\"https://colab.research.google.com/github/mamtapatil1111/Sentiment_classification/blob/master/NLP_IMDB.ipynb\" target=\"_parent\"><img src=\"https://colab.research.google.com/assets/colab-badge.svg\" alt=\"Open In Colab\"/></a>"
      ]
    },
    {
      "cell_type": "code",
      "metadata": {
        "id": "K-OliiSqh6Du",
        "colab_type": "code",
        "colab": {
          "base_uri": "https://localhost:8080/",
          "height": 34
        },
        "outputId": "1ece8c70-4422-485e-9f2a-38f219fc4de1"
      },
      "source": [
        "from google.colab import drive\n",
        "drive.mount('/content/gdrive')"
      ],
      "execution_count": 1,
      "outputs": [
        {
          "output_type": "stream",
          "text": [
            "Mounted at /content/gdrive\n"
          ],
          "name": "stdout"
        }
      ]
    },
    {
      "cell_type": "code",
      "metadata": {
        "id": "D8qn4UfJmq-I",
        "colab_type": "code",
        "colab": {
          "base_uri": "https://localhost:8080/",
          "height": 153
        },
        "outputId": "08726d55-28d0-4d64-c874-f1d7d2d8adc0"
      },
      "source": [
        "import io\n",
        "import pandas as pd\n",
        "import numpy as np\n",
        "import nltk\n",
        "nltk.download('punkt')\n",
        "nltk.download('averaged_perceptron_tagger')\n",
        "nltk.download('wordnet')"
      ],
      "execution_count": 2,
      "outputs": [
        {
          "output_type": "stream",
          "text": [
            "[nltk_data] Downloading package punkt to /root/nltk_data...\n",
            "[nltk_data]   Unzipping tokenizers/punkt.zip.\n",
            "[nltk_data] Downloading package averaged_perceptron_tagger to\n",
            "[nltk_data]     /root/nltk_data...\n",
            "[nltk_data]   Unzipping taggers/averaged_perceptron_tagger.zip.\n",
            "[nltk_data] Downloading package wordnet to /root/nltk_data...\n",
            "[nltk_data]   Unzipping corpora/wordnet.zip.\n"
          ],
          "name": "stdout"
        },
        {
          "output_type": "execute_result",
          "data": {
            "text/plain": [
              "True"
            ]
          },
          "metadata": {
            "tags": []
          },
          "execution_count": 2
        }
      ]
    },
    {
      "cell_type": "code",
      "metadata": {
        "id": "wdslELD9mwLq",
        "colab_type": "code",
        "colab": {}
      },
      "source": [
        "data = pd.read_csv(r'gdrive/My Drive/Data Science Projects/IMDB/IMDB_Dataset.csv')"
      ],
      "execution_count": 3,
      "outputs": []
    },
    {
      "cell_type": "code",
      "metadata": {
        "id": "40AtOJpknAgy",
        "colab_type": "code",
        "colab": {
          "base_uri": "https://localhost:8080/",
          "height": 419
        },
        "outputId": "fc2b134b-dc65-497a-9f94-d144b13b1db6"
      },
      "source": [
        "data"
      ],
      "execution_count": 4,
      "outputs": [
        {
          "output_type": "execute_result",
          "data": {
            "text/html": [
              "<div>\n",
              "<style scoped>\n",
              "    .dataframe tbody tr th:only-of-type {\n",
              "        vertical-align: middle;\n",
              "    }\n",
              "\n",
              "    .dataframe tbody tr th {\n",
              "        vertical-align: top;\n",
              "    }\n",
              "\n",
              "    .dataframe thead th {\n",
              "        text-align: right;\n",
              "    }\n",
              "</style>\n",
              "<table border=\"1\" class=\"dataframe\">\n",
              "  <thead>\n",
              "    <tr style=\"text-align: right;\">\n",
              "      <th></th>\n",
              "      <th>review</th>\n",
              "      <th>sentiment</th>\n",
              "    </tr>\n",
              "  </thead>\n",
              "  <tbody>\n",
              "    <tr>\n",
              "      <th>0</th>\n",
              "      <td>One of the other reviewers has mentioned that ...</td>\n",
              "      <td>positive</td>\n",
              "    </tr>\n",
              "    <tr>\n",
              "      <th>1</th>\n",
              "      <td>A wonderful little production. &lt;br /&gt;&lt;br /&gt;The...</td>\n",
              "      <td>positive</td>\n",
              "    </tr>\n",
              "    <tr>\n",
              "      <th>2</th>\n",
              "      <td>I thought this was a wonderful way to spend ti...</td>\n",
              "      <td>positive</td>\n",
              "    </tr>\n",
              "    <tr>\n",
              "      <th>3</th>\n",
              "      <td>Basically there's a family where a little boy ...</td>\n",
              "      <td>negative</td>\n",
              "    </tr>\n",
              "    <tr>\n",
              "      <th>4</th>\n",
              "      <td>Petter Mattei's \"Love in the Time of Money\" is...</td>\n",
              "      <td>positive</td>\n",
              "    </tr>\n",
              "    <tr>\n",
              "      <th>...</th>\n",
              "      <td>...</td>\n",
              "      <td>...</td>\n",
              "    </tr>\n",
              "    <tr>\n",
              "      <th>49995</th>\n",
              "      <td>I thought this movie did a down right good job...</td>\n",
              "      <td>positive</td>\n",
              "    </tr>\n",
              "    <tr>\n",
              "      <th>49996</th>\n",
              "      <td>Bad plot, bad dialogue, bad acting, idiotic di...</td>\n",
              "      <td>negative</td>\n",
              "    </tr>\n",
              "    <tr>\n",
              "      <th>49997</th>\n",
              "      <td>I am a Catholic taught in parochial elementary...</td>\n",
              "      <td>negative</td>\n",
              "    </tr>\n",
              "    <tr>\n",
              "      <th>49998</th>\n",
              "      <td>I'm going to have to disagree with the previou...</td>\n",
              "      <td>negative</td>\n",
              "    </tr>\n",
              "    <tr>\n",
              "      <th>49999</th>\n",
              "      <td>No one expects the Star Trek movies to be high...</td>\n",
              "      <td>negative</td>\n",
              "    </tr>\n",
              "  </tbody>\n",
              "</table>\n",
              "<p>50000 rows × 2 columns</p>\n",
              "</div>"
            ],
            "text/plain": [
              "                                                  review sentiment\n",
              "0      One of the other reviewers has mentioned that ...  positive\n",
              "1      A wonderful little production. <br /><br />The...  positive\n",
              "2      I thought this was a wonderful way to spend ti...  positive\n",
              "3      Basically there's a family where a little boy ...  negative\n",
              "4      Petter Mattei's \"Love in the Time of Money\" is...  positive\n",
              "...                                                  ...       ...\n",
              "49995  I thought this movie did a down right good job...  positive\n",
              "49996  Bad plot, bad dialogue, bad acting, idiotic di...  negative\n",
              "49997  I am a Catholic taught in parochial elementary...  negative\n",
              "49998  I'm going to have to disagree with the previou...  negative\n",
              "49999  No one expects the Star Trek movies to be high...  negative\n",
              "\n",
              "[50000 rows x 2 columns]"
            ]
          },
          "metadata": {
            "tags": []
          },
          "execution_count": 4
        }
      ]
    },
    {
      "cell_type": "code",
      "metadata": {
        "id": "9Dl3ADk4n3wX",
        "colab_type": "code",
        "colab": {
          "base_uri": "https://localhost:8080/",
          "height": 170
        },
        "outputId": "8864c447-ee7c-40f9-885e-db9208f01ca4"
      },
      "source": [
        "data.info()"
      ],
      "execution_count": 5,
      "outputs": [
        {
          "output_type": "stream",
          "text": [
            "<class 'pandas.core.frame.DataFrame'>\n",
            "RangeIndex: 50000 entries, 0 to 49999\n",
            "Data columns (total 2 columns):\n",
            " #   Column     Non-Null Count  Dtype \n",
            "---  ------     --------------  ----- \n",
            " 0   review     50000 non-null  object\n",
            " 1   sentiment  50000 non-null  object\n",
            "dtypes: object(2)\n",
            "memory usage: 781.4+ KB\n"
          ],
          "name": "stdout"
        }
      ]
    },
    {
      "cell_type": "code",
      "metadata": {
        "id": "00jPhM0Xn9vv",
        "colab_type": "code",
        "colab": {
          "base_uri": "https://localhost:8080/",
          "height": 68
        },
        "outputId": "f982269e-d1c5-44f4-a3bd-044e7d1e2ab8"
      },
      "source": [
        "data['sentiment'].value_counts()"
      ],
      "execution_count": 6,
      "outputs": [
        {
          "output_type": "execute_result",
          "data": {
            "text/plain": [
              "negative    25000\n",
              "positive    25000\n",
              "Name: sentiment, dtype: int64"
            ]
          },
          "metadata": {
            "tags": []
          },
          "execution_count": 6
        }
      ]
    },
    {
      "cell_type": "code",
      "metadata": {
        "id": "ifpnPWrwoOaz",
        "colab_type": "code",
        "colab": {}
      },
      "source": [
        "review= data['review'][1]"
      ],
      "execution_count": 7,
      "outputs": []
    },
    {
      "cell_type": "code",
      "metadata": {
        "id": "QelvzKZuDsPX",
        "colab_type": "code",
        "colab": {
          "base_uri": "https://localhost:8080/",
          "height": 137
        },
        "outputId": "b7237d09-0984-4dee-b93b-1ae020b47551"
      },
      "source": [
        "review"
      ],
      "execution_count": 8,
      "outputs": [
        {
          "output_type": "execute_result",
          "data": {
            "application/vnd.google.colaboratory.intrinsic+json": {
              "type": "string"
            },
            "text/plain": [
              "'A wonderful little production. <br /><br />The filming technique is very unassuming- very old-time-BBC fashion and gives a comforting, and sometimes discomforting, sense of realism to the entire piece. <br /><br />The actors are extremely well chosen- Michael Sheen not only \"has got all the polari\" but he has all the voices down pat too! You can truly see the seamless editing guided by the references to Williams\\' diary entries, not only is it well worth the watching but it is a terrificly written and performed piece. A masterful production about one of the great master\\'s of comedy and his life. <br /><br />The realism really comes home with the little things: the fantasy of the guard which, rather than use the traditional \\'dream\\' techniques remains solid then disappears. It plays on our knowledge and our senses, particularly with the scenes concerning Orton and Halliwell and the sets (particularly of their flat with Halliwell\\'s murals decorating every surface) are terribly well done.'"
            ]
          },
          "metadata": {
            "tags": []
          },
          "execution_count": 8
        }
      ]
    },
    {
      "cell_type": "markdown",
      "metadata": {
        "id": "svt5xP2m9wfe",
        "colab_type": "text"
      },
      "source": [
        "Normally any NLP task involves following text cleaning techniques -\n",
        "\n",
        "1.   Removal of HTML contents like \"< br>\".\n",
        "2.   Removal of punctutions, special characters like '\\'.\n",
        "3.   Removal of stopwords like is, the which do not offer much insight.\n",
        "4.   Lemmatization to bring back multiple forms of same word to their common root like 'coming', 'comes' into 'come'.\n",
        "5.   Vectorization - Encode the numeric values once you have cleaned it.\n",
        "6.   Fit the data to the ML model.\n",
        "\n",
        "\n",
        "\n",
        "\n",
        "\n",
        "\n",
        "\n",
        "\n",
        "\n"
      ]
    },
    {
      "cell_type": "markdown",
      "metadata": {
        "id": "77GZmKzw--HT",
        "colab_type": "text"
      },
      "source": [
        "Step 1: Removal of HTML content"
      ]
    },
    {
      "cell_type": "code",
      "metadata": {
        "id": "zHvy0e1FpAsN",
        "colab_type": "code",
        "colab": {
          "base_uri": "https://localhost:8080/",
          "height": 137
        },
        "outputId": "b5dfeff9-7ba1-457e-8297-6b74116fce68"
      },
      "source": [
        "from bs4 import BeautifulSoup             \n",
        "\n",
        "review= BeautifulSoup(review,\"html.parser\").get_text()\n",
        "review"
      ],
      "execution_count": 9,
      "outputs": [
        {
          "output_type": "execute_result",
          "data": {
            "application/vnd.google.colaboratory.intrinsic+json": {
              "type": "string"
            },
            "text/plain": [
              "'A wonderful little production. The filming technique is very unassuming- very old-time-BBC fashion and gives a comforting, and sometimes discomforting, sense of realism to the entire piece. The actors are extremely well chosen- Michael Sheen not only \"has got all the polari\" but he has all the voices down pat too! You can truly see the seamless editing guided by the references to Williams\\' diary entries, not only is it well worth the watching but it is a terrificly written and performed piece. A masterful production about one of the great master\\'s of comedy and his life. The realism really comes home with the little things: the fantasy of the guard which, rather than use the traditional \\'dream\\' techniques remains solid then disappears. It plays on our knowledge and our senses, particularly with the scenes concerning Orton and Halliwell and the sets (particularly of their flat with Halliwell\\'s murals decorating every surface) are terribly well done.'"
            ]
          },
          "metadata": {
            "tags": []
          },
          "execution_count": 9
        }
      ]
    },
    {
      "cell_type": "markdown",
      "metadata": {
        "id": "vluqqkp7_Sx2",
        "colab_type": "text"
      },
      "source": [
        "Step 2: Removal of punctuations and special charcters."
      ]
    },
    {
      "cell_type": "code",
      "metadata": {
        "id": "UD5H7vYqt3Zs",
        "colab_type": "code",
        "colab": {
          "base_uri": "https://localhost:8080/",
          "height": 120
        },
        "outputId": "dacd851e-ccbd-485a-9ffa-cfddfe7c427e"
      },
      "source": [
        "import re\n",
        "\n",
        "review = re.sub('[^a-zA-Z]', ' ', review)\n",
        "review"
      ],
      "execution_count": 10,
      "outputs": [
        {
          "output_type": "execute_result",
          "data": {
            "application/vnd.google.colaboratory.intrinsic+json": {
              "type": "string"
            },
            "text/plain": [
              "'A wonderful little production  The filming technique is very unassuming  very old time BBC fashion and gives a comforting  and sometimes discomforting  sense of realism to the entire piece  The actors are extremely well chosen  Michael Sheen not only  has got all the polari  but he has all the voices down pat too  You can truly see the seamless editing guided by the references to Williams  diary entries  not only is it well worth the watching but it is a terrificly written and performed piece  A masterful production about one of the great master s of comedy and his life  The realism really comes home with the little things  the fantasy of the guard which  rather than use the traditional  dream  techniques remains solid then disappears  It plays on our knowledge and our senses  particularly with the scenes concerning Orton and Halliwell and the sets  particularly of their flat with Halliwell s murals decorating every surface  are terribly well done '"
            ]
          },
          "metadata": {
            "tags": []
          },
          "execution_count": 10
        }
      ]
    },
    {
      "cell_type": "markdown",
      "metadata": {
        "id": "yu54Rf6-_oqV",
        "colab_type": "text"
      },
      "source": [
        "Bring everything into lowercase."
      ]
    },
    {
      "cell_type": "code",
      "metadata": {
        "id": "b7c0dhBzEDHJ",
        "colab_type": "code",
        "colab": {
          "base_uri": "https://localhost:8080/",
          "height": 120
        },
        "outputId": "db612ad4-1897-4d3f-e568-6f6d92d6d25a"
      },
      "source": [
        "review = review.lower()\n",
        "review"
      ],
      "execution_count": 11,
      "outputs": [
        {
          "output_type": "execute_result",
          "data": {
            "application/vnd.google.colaboratory.intrinsic+json": {
              "type": "string"
            },
            "text/plain": [
              "'a wonderful little production  the filming technique is very unassuming  very old time bbc fashion and gives a comforting  and sometimes discomforting  sense of realism to the entire piece  the actors are extremely well chosen  michael sheen not only  has got all the polari  but he has all the voices down pat too  you can truly see the seamless editing guided by the references to williams  diary entries  not only is it well worth the watching but it is a terrificly written and performed piece  a masterful production about one of the great master s of comedy and his life  the realism really comes home with the little things  the fantasy of the guard which  rather than use the traditional  dream  techniques remains solid then disappears  it plays on our knowledge and our senses  particularly with the scenes concerning orton and halliwell and the sets  particularly of their flat with halliwell s murals decorating every surface  are terribly well done '"
            ]
          },
          "metadata": {
            "tags": []
          },
          "execution_count": 11
        }
      ]
    },
    {
      "cell_type": "markdown",
      "metadata": {
        "id": "_vKrJ-3L_0Nl",
        "colab_type": "text"
      },
      "source": [
        "Stopwords removal - since stopwords removal works on every word in your text we need to split the text."
      ]
    },
    {
      "cell_type": "code",
      "metadata": {
        "id": "0OzHb33aE_PQ",
        "colab_type": "code",
        "colab": {
          "base_uri": "https://localhost:8080/",
          "height": 1000
        },
        "outputId": "2bb78ce7-a609-4930-f031-593e2c07476b"
      },
      "source": [
        "review = review.split()\n",
        "review"
      ],
      "execution_count": 12,
      "outputs": [
        {
          "output_type": "execute_result",
          "data": {
            "text/plain": [
              "['a',\n",
              " 'wonderful',\n",
              " 'little',\n",
              " 'production',\n",
              " 'the',\n",
              " 'filming',\n",
              " 'technique',\n",
              " 'is',\n",
              " 'very',\n",
              " 'unassuming',\n",
              " 'very',\n",
              " 'old',\n",
              " 'time',\n",
              " 'bbc',\n",
              " 'fashion',\n",
              " 'and',\n",
              " 'gives',\n",
              " 'a',\n",
              " 'comforting',\n",
              " 'and',\n",
              " 'sometimes',\n",
              " 'discomforting',\n",
              " 'sense',\n",
              " 'of',\n",
              " 'realism',\n",
              " 'to',\n",
              " 'the',\n",
              " 'entire',\n",
              " 'piece',\n",
              " 'the',\n",
              " 'actors',\n",
              " 'are',\n",
              " 'extremely',\n",
              " 'well',\n",
              " 'chosen',\n",
              " 'michael',\n",
              " 'sheen',\n",
              " 'not',\n",
              " 'only',\n",
              " 'has',\n",
              " 'got',\n",
              " 'all',\n",
              " 'the',\n",
              " 'polari',\n",
              " 'but',\n",
              " 'he',\n",
              " 'has',\n",
              " 'all',\n",
              " 'the',\n",
              " 'voices',\n",
              " 'down',\n",
              " 'pat',\n",
              " 'too',\n",
              " 'you',\n",
              " 'can',\n",
              " 'truly',\n",
              " 'see',\n",
              " 'the',\n",
              " 'seamless',\n",
              " 'editing',\n",
              " 'guided',\n",
              " 'by',\n",
              " 'the',\n",
              " 'references',\n",
              " 'to',\n",
              " 'williams',\n",
              " 'diary',\n",
              " 'entries',\n",
              " 'not',\n",
              " 'only',\n",
              " 'is',\n",
              " 'it',\n",
              " 'well',\n",
              " 'worth',\n",
              " 'the',\n",
              " 'watching',\n",
              " 'but',\n",
              " 'it',\n",
              " 'is',\n",
              " 'a',\n",
              " 'terrificly',\n",
              " 'written',\n",
              " 'and',\n",
              " 'performed',\n",
              " 'piece',\n",
              " 'a',\n",
              " 'masterful',\n",
              " 'production',\n",
              " 'about',\n",
              " 'one',\n",
              " 'of',\n",
              " 'the',\n",
              " 'great',\n",
              " 'master',\n",
              " 's',\n",
              " 'of',\n",
              " 'comedy',\n",
              " 'and',\n",
              " 'his',\n",
              " 'life',\n",
              " 'the',\n",
              " 'realism',\n",
              " 'really',\n",
              " 'comes',\n",
              " 'home',\n",
              " 'with',\n",
              " 'the',\n",
              " 'little',\n",
              " 'things',\n",
              " 'the',\n",
              " 'fantasy',\n",
              " 'of',\n",
              " 'the',\n",
              " 'guard',\n",
              " 'which',\n",
              " 'rather',\n",
              " 'than',\n",
              " 'use',\n",
              " 'the',\n",
              " 'traditional',\n",
              " 'dream',\n",
              " 'techniques',\n",
              " 'remains',\n",
              " 'solid',\n",
              " 'then',\n",
              " 'disappears',\n",
              " 'it',\n",
              " 'plays',\n",
              " 'on',\n",
              " 'our',\n",
              " 'knowledge',\n",
              " 'and',\n",
              " 'our',\n",
              " 'senses',\n",
              " 'particularly',\n",
              " 'with',\n",
              " 'the',\n",
              " 'scenes',\n",
              " 'concerning',\n",
              " 'orton',\n",
              " 'and',\n",
              " 'halliwell',\n",
              " 'and',\n",
              " 'the',\n",
              " 'sets',\n",
              " 'particularly',\n",
              " 'of',\n",
              " 'their',\n",
              " 'flat',\n",
              " 'with',\n",
              " 'halliwell',\n",
              " 's',\n",
              " 'murals',\n",
              " 'decorating',\n",
              " 'every',\n",
              " 'surface',\n",
              " 'are',\n",
              " 'terribly',\n",
              " 'well',\n",
              " 'done']"
            ]
          },
          "metadata": {
            "tags": []
          },
          "execution_count": 12
        }
      ]
    },
    {
      "cell_type": "code",
      "metadata": {
        "id": "ogBY_77xG4x8",
        "colab_type": "code",
        "colab": {
          "base_uri": "https://localhost:8080/",
          "height": 1000
        },
        "outputId": "000f69f0-472e-493e-aa24-b9f16eaa12dd"
      },
      "source": [
        "import nltk\n",
        "nltk.download('stopwords')\n",
        "from nltk.corpus import stopwords\n",
        "\n",
        "review = [word for word in review if not word in set(stopwords.words('english'))]\n",
        "review"
      ],
      "execution_count": 13,
      "outputs": [
        {
          "output_type": "stream",
          "text": [
            "[nltk_data] Downloading package stopwords to /root/nltk_data...\n",
            "[nltk_data]   Unzipping corpora/stopwords.zip.\n"
          ],
          "name": "stdout"
        },
        {
          "output_type": "execute_result",
          "data": {
            "text/plain": [
              "['wonderful',\n",
              " 'little',\n",
              " 'production',\n",
              " 'filming',\n",
              " 'technique',\n",
              " 'unassuming',\n",
              " 'old',\n",
              " 'time',\n",
              " 'bbc',\n",
              " 'fashion',\n",
              " 'gives',\n",
              " 'comforting',\n",
              " 'sometimes',\n",
              " 'discomforting',\n",
              " 'sense',\n",
              " 'realism',\n",
              " 'entire',\n",
              " 'piece',\n",
              " 'actors',\n",
              " 'extremely',\n",
              " 'well',\n",
              " 'chosen',\n",
              " 'michael',\n",
              " 'sheen',\n",
              " 'got',\n",
              " 'polari',\n",
              " 'voices',\n",
              " 'pat',\n",
              " 'truly',\n",
              " 'see',\n",
              " 'seamless',\n",
              " 'editing',\n",
              " 'guided',\n",
              " 'references',\n",
              " 'williams',\n",
              " 'diary',\n",
              " 'entries',\n",
              " 'well',\n",
              " 'worth',\n",
              " 'watching',\n",
              " 'terrificly',\n",
              " 'written',\n",
              " 'performed',\n",
              " 'piece',\n",
              " 'masterful',\n",
              " 'production',\n",
              " 'one',\n",
              " 'great',\n",
              " 'master',\n",
              " 'comedy',\n",
              " 'life',\n",
              " 'realism',\n",
              " 'really',\n",
              " 'comes',\n",
              " 'home',\n",
              " 'little',\n",
              " 'things',\n",
              " 'fantasy',\n",
              " 'guard',\n",
              " 'rather',\n",
              " 'use',\n",
              " 'traditional',\n",
              " 'dream',\n",
              " 'techniques',\n",
              " 'remains',\n",
              " 'solid',\n",
              " 'disappears',\n",
              " 'plays',\n",
              " 'knowledge',\n",
              " 'senses',\n",
              " 'particularly',\n",
              " 'scenes',\n",
              " 'concerning',\n",
              " 'orton',\n",
              " 'halliwell',\n",
              " 'sets',\n",
              " 'particularly',\n",
              " 'flat',\n",
              " 'halliwell',\n",
              " 'murals',\n",
              " 'decorating',\n",
              " 'every',\n",
              " 'surface',\n",
              " 'terribly',\n",
              " 'well',\n",
              " 'done']"
            ]
          },
          "metadata": {
            "tags": []
          },
          "execution_count": 13
        }
      ]
    },
    {
      "cell_type": "markdown",
      "metadata": {
        "id": "ZxI0iCeHAMDr",
        "colab_type": "text"
      },
      "source": [
        "Step 4: Lemmatization"
      ]
    },
    {
      "cell_type": "code",
      "metadata": {
        "id": "PzJ_h5FMHRxW",
        "colab_type": "code",
        "colab": {
          "base_uri": "https://localhost:8080/",
          "height": 1000
        },
        "outputId": "0b34148d-1c5e-43c6-aae3-a5fe9751913d"
      },
      "source": [
        "from nltk.stem import WordNetLemmatizer\n",
        "\n",
        "lem = WordNetLemmatizer()\n",
        "review = [lem.lemmatize(word) for word in review]\n",
        "review"
      ],
      "execution_count": 14,
      "outputs": [
        {
          "output_type": "execute_result",
          "data": {
            "text/plain": [
              "['wonderful',\n",
              " 'little',\n",
              " 'production',\n",
              " 'filming',\n",
              " 'technique',\n",
              " 'unassuming',\n",
              " 'old',\n",
              " 'time',\n",
              " 'bbc',\n",
              " 'fashion',\n",
              " 'give',\n",
              " 'comforting',\n",
              " 'sometimes',\n",
              " 'discomforting',\n",
              " 'sense',\n",
              " 'realism',\n",
              " 'entire',\n",
              " 'piece',\n",
              " 'actor',\n",
              " 'extremely',\n",
              " 'well',\n",
              " 'chosen',\n",
              " 'michael',\n",
              " 'sheen',\n",
              " 'got',\n",
              " 'polari',\n",
              " 'voice',\n",
              " 'pat',\n",
              " 'truly',\n",
              " 'see',\n",
              " 'seamless',\n",
              " 'editing',\n",
              " 'guided',\n",
              " 'reference',\n",
              " 'williams',\n",
              " 'diary',\n",
              " 'entry',\n",
              " 'well',\n",
              " 'worth',\n",
              " 'watching',\n",
              " 'terrificly',\n",
              " 'written',\n",
              " 'performed',\n",
              " 'piece',\n",
              " 'masterful',\n",
              " 'production',\n",
              " 'one',\n",
              " 'great',\n",
              " 'master',\n",
              " 'comedy',\n",
              " 'life',\n",
              " 'realism',\n",
              " 'really',\n",
              " 'come',\n",
              " 'home',\n",
              " 'little',\n",
              " 'thing',\n",
              " 'fantasy',\n",
              " 'guard',\n",
              " 'rather',\n",
              " 'use',\n",
              " 'traditional',\n",
              " 'dream',\n",
              " 'technique',\n",
              " 'remains',\n",
              " 'solid',\n",
              " 'disappears',\n",
              " 'play',\n",
              " 'knowledge',\n",
              " 'sens',\n",
              " 'particularly',\n",
              " 'scene',\n",
              " 'concerning',\n",
              " 'orton',\n",
              " 'halliwell',\n",
              " 'set',\n",
              " 'particularly',\n",
              " 'flat',\n",
              " 'halliwell',\n",
              " 'mural',\n",
              " 'decorating',\n",
              " 'every',\n",
              " 'surface',\n",
              " 'terribly',\n",
              " 'well',\n",
              " 'done']"
            ]
          },
          "metadata": {
            "tags": []
          },
          "execution_count": 14
        }
      ]
    },
    {
      "cell_type": "markdown",
      "metadata": {
        "id": "S3zQ2JUnAeBD",
        "colab_type": "text"
      },
      "source": [
        "Merge the words to form cleaned up version of the text."
      ]
    },
    {
      "cell_type": "code",
      "metadata": {
        "id": "r2_zvkIBHeb3",
        "colab_type": "code",
        "colab": {
          "base_uri": "https://localhost:8080/",
          "height": 86
        },
        "outputId": "e302bfca-4b5c-4dba-9ceb-270e7e2c7d3e"
      },
      "source": [
        "review = ' '.join(review)\n",
        "review"
      ],
      "execution_count": 15,
      "outputs": [
        {
          "output_type": "execute_result",
          "data": {
            "application/vnd.google.colaboratory.intrinsic+json": {
              "type": "string"
            },
            "text/plain": [
              "'wonderful little production filming technique unassuming old time bbc fashion give comforting sometimes discomforting sense realism entire piece actor extremely well chosen michael sheen got polari voice pat truly see seamless editing guided reference williams diary entry well worth watching terrificly written performed piece masterful production one great master comedy life realism really come home little thing fantasy guard rather use traditional dream technique remains solid disappears play knowledge sens particularly scene concerning orton halliwell set particularly flat halliwell mural decorating every surface terribly well done'"
            ]
          },
          "metadata": {
            "tags": []
          },
          "execution_count": 15
        }
      ]
    },
    {
      "cell_type": "markdown",
      "metadata": {
        "id": "q02rKYnTAlln",
        "colab_type": "text"
      },
      "source": [
        "Create a Corpus first because next step will be to bring this text in mathematical forms."
      ]
    },
    {
      "cell_type": "code",
      "metadata": {
        "id": "Vg9aaxa2H61Z",
        "colab_type": "code",
        "colab": {}
      },
      "source": [
        "corpus = []\n",
        "corpus.append(review)"
      ],
      "execution_count": 16,
      "outputs": []
    },
    {
      "cell_type": "code",
      "metadata": {
        "id": "_cUJps8dILqd",
        "colab_type": "code",
        "colab": {
          "base_uri": "https://localhost:8080/",
          "height": 54
        },
        "outputId": "60040900-7957-492c-8bea-133bdfa607c9"
      },
      "source": [
        "corpus"
      ],
      "execution_count": 17,
      "outputs": [
        {
          "output_type": "execute_result",
          "data": {
            "text/plain": [
              "['wonderful little production filming technique unassuming old time bbc fashion give comforting sometimes discomforting sense realism entire piece actor extremely well chosen michael sheen got polari voice pat truly see seamless editing guided reference williams diary entry well worth watching terrificly written performed piece masterful production one great master comedy life realism really come home little thing fantasy guard rather use traditional dream technique remains solid disappears play knowledge sens particularly scene concerning orton halliwell set particularly flat halliwell mural decorating every surface terribly well done']"
            ]
          },
          "metadata": {
            "tags": []
          },
          "execution_count": 17
        }
      ]
    },
    {
      "cell_type": "markdown",
      "metadata": {
        "id": "99sIPVSOBIdr",
        "colab_type": "text"
      },
      "source": [
        "Step 5: Vectorization"
      ]
    },
    {
      "cell_type": "code",
      "metadata": {
        "id": "zJ8wgUaQIMyf",
        "colab_type": "code",
        "colab": {
          "base_uri": "https://localhost:8080/",
          "height": 85
        },
        "outputId": "b554cd99-e315-42c6-cc1f-2c2f900d7a3d"
      },
      "source": [
        "from sklearn.feature_extraction.text import CountVectorizer\n",
        "\n",
        "count_vec = CountVectorizer()\n",
        "review_count_vec = count_vec.fit_transform(corpus)\n",
        "\n",
        "review_count_vec.toarray()"
      ],
      "execution_count": 18,
      "outputs": [
        {
          "output_type": "execute_result",
          "data": {
            "text/plain": [
              "array([[1, 1, 1, 1, 1, 1, 1, 1, 1, 1, 1, 1, 1, 1, 1, 1, 1, 1, 1, 1, 1, 1,\n",
              "        1, 1, 1, 1, 1, 2, 1, 1, 1, 2, 1, 1, 1, 1, 1, 1, 1, 2, 1, 1, 2, 1,\n",
              "        1, 2, 1, 2, 1, 1, 1, 1, 1, 1, 1, 1, 1, 1, 1, 1, 1, 2, 1, 1, 1, 1,\n",
              "        1, 1, 1, 1, 1, 1, 3, 1, 1, 1, 1]])"
            ]
          },
          "metadata": {
            "tags": []
          },
          "execution_count": 18
        }
      ]
    },
    {
      "cell_type": "markdown",
      "metadata": {
        "id": "EwN0Lv08Cbzv",
        "colab_type": "text"
      },
      "source": [
        "The data has become numeric with 1,2 and 3s based on the number of times they appear in the text.\n",
        "There is another variation of CountVectorizer with binary=True and in that case all non-zero entries will have 1."
      ]
    },
    {
      "cell_type": "code",
      "metadata": {
        "id": "w1FJT9nRsvRs",
        "colab_type": "code",
        "colab": {
          "base_uri": "https://localhost:8080/",
          "height": 85
        },
        "outputId": "389c7cf1-5929-459e-a788-bc2e11fd7082"
      },
      "source": [
        "count_vec_bin = CountVectorizer(binary=True)\n",
        "review_count_vec_bin = count_vec_bin.fit_transform(corpus)\n",
        "\n",
        "review_count_vec_bin.toarray()"
      ],
      "execution_count": 19,
      "outputs": [
        {
          "output_type": "execute_result",
          "data": {
            "text/plain": [
              "array([[1, 1, 1, 1, 1, 1, 1, 1, 1, 1, 1, 1, 1, 1, 1, 1, 1, 1, 1, 1, 1, 1,\n",
              "        1, 1, 1, 1, 1, 1, 1, 1, 1, 1, 1, 1, 1, 1, 1, 1, 1, 1, 1, 1, 1, 1,\n",
              "        1, 1, 1, 1, 1, 1, 1, 1, 1, 1, 1, 1, 1, 1, 1, 1, 1, 1, 1, 1, 1, 1,\n",
              "        1, 1, 1, 1, 1, 1, 1, 1, 1, 1, 1]])"
            ]
          },
          "metadata": {
            "tags": []
          },
          "execution_count": 19
        }
      ]
    },
    {
      "cell_type": "markdown",
      "metadata": {
        "id": "eTneCu_EC5Ea",
        "colab_type": "text"
      },
      "source": [
        "So there is no 2s and 3s in the vector.\n",
        "\n",
        "Now I will appply TF-IDF - TF stands for Text Frequency which means how many times a word (term) appears in a text (document). IDF means Inverse Document Frequency and is calculated as log(# of documents in corpus/# of documents containing the term).\n",
        "\n",
        "Finally TF-IDF score is calculated as TF * IDF.\n",
        "\n",
        "IDF acts as a balancing factor and diminishes the weight of terms that occur very frequently in the document set and increases the weight of terms that occur rarely."
      ]
    },
    {
      "cell_type": "code",
      "metadata": {
        "id": "3hUBy7mCszOV",
        "colab_type": "code",
        "colab": {
          "base_uri": "https://localhost:8080/",
          "height": 289
        },
        "outputId": "281596d3-bf54-4609-817c-4615ae62026e"
      },
      "source": [
        "from sklearn.feature_extraction.text import TfidfVectorizer\n",
        "\n",
        "tfidf_vec = TfidfVectorizer()\n",
        "review_tfidf_vec = tfidf_vec.fit_transform(corpus)\n",
        "\n",
        "review_tfidf_vec.toarray()"
      ],
      "execution_count": 20,
      "outputs": [
        {
          "output_type": "execute_result",
          "data": {
            "text/plain": [
              "array([[0.09712859, 0.09712859, 0.09712859, 0.09712859, 0.09712859,\n",
              "        0.09712859, 0.09712859, 0.09712859, 0.09712859, 0.09712859,\n",
              "        0.09712859, 0.09712859, 0.09712859, 0.09712859, 0.09712859,\n",
              "        0.09712859, 0.09712859, 0.09712859, 0.09712859, 0.09712859,\n",
              "        0.09712859, 0.09712859, 0.09712859, 0.09712859, 0.09712859,\n",
              "        0.09712859, 0.09712859, 0.19425717, 0.09712859, 0.09712859,\n",
              "        0.09712859, 0.19425717, 0.09712859, 0.09712859, 0.09712859,\n",
              "        0.09712859, 0.09712859, 0.09712859, 0.09712859, 0.19425717,\n",
              "        0.09712859, 0.09712859, 0.19425717, 0.09712859, 0.09712859,\n",
              "        0.19425717, 0.09712859, 0.19425717, 0.09712859, 0.09712859,\n",
              "        0.09712859, 0.09712859, 0.09712859, 0.09712859, 0.09712859,\n",
              "        0.09712859, 0.09712859, 0.09712859, 0.09712859, 0.09712859,\n",
              "        0.09712859, 0.19425717, 0.09712859, 0.09712859, 0.09712859,\n",
              "        0.09712859, 0.09712859, 0.09712859, 0.09712859, 0.09712859,\n",
              "        0.09712859, 0.09712859, 0.29138576, 0.09712859, 0.09712859,\n",
              "        0.09712859, 0.09712859]])"
            ]
          },
          "metadata": {
            "tags": []
          },
          "execution_count": 20
        }
      ]
    },
    {
      "cell_type": "markdown",
      "metadata": {
        "id": "A9SDE96RDOFD",
        "colab_type": "text"
      },
      "source": [
        "Split train-test dataset."
      ]
    },
    {
      "cell_type": "code",
      "metadata": {
        "id": "Hiy0PY9Vs3OB",
        "colab_type": "code",
        "colab": {}
      },
      "source": [
        "from sklearn.model_selection import train_test_split\n",
        "\n",
        "X_train, X_test, y_train, y_test = train_test_split(data['review'], data['sentiment'], test_size=0.30)"
      ],
      "execution_count": 21,
      "outputs": []
    },
    {
      "cell_type": "markdown",
      "metadata": {
        "id": "YKKjdZIADdnG",
        "colab_type": "text"
      },
      "source": [
        "Convert sentiments to numeric forms."
      ]
    },
    {
      "cell_type": "code",
      "metadata": {
        "id": "bHeFELLJtcum",
        "colab_type": "code",
        "colab": {}
      },
      "source": [
        "y_train = (y_train.replace({'positive': 1, 'negative': 0})).values\n",
        "y_test  = (y_test.replace({'positive': 1, 'negative': 0})).values"
      ],
      "execution_count": 22,
      "outputs": []
    },
    {
      "cell_type": "markdown",
      "metadata": {
        "id": "_TC3mUYuDj_p",
        "colab_type": "text"
      },
      "source": [
        "Apply the techniques of cleaning data on whole train and test dataset."
      ]
    },
    {
      "cell_type": "code",
      "metadata": {
        "id": "p6jxYSpotq20",
        "colab_type": "code",
        "colab": {}
      },
      "source": [
        "corpus_train = []\n",
        "corpus_test  = []\n",
        "\n",
        "for i in range(X_train.shape[0]):\n",
        "    soup = BeautifulSoup(X_train.iloc[i], \"html.parser\")\n",
        "    review = soup.get_text()\n",
        "    review = re.sub('[^a-zA-Z]', ' ', review)\n",
        "    review = review.lower()\n",
        "    review = review.split()\n",
        "    review = [word for word in review if not word in set(stopwords.words('english'))]\n",
        "    lem = WordNetLemmatizer()\n",
        "    review = [lem.lemmatize(word) for word in review]\n",
        "    review = ' '.join(review)\n",
        "    corpus_train.append(review)\n",
        "    \n",
        "for j in range(X_test.shape[0]):\n",
        "    soup = BeautifulSoup(X_test.iloc[j], \"html.parser\")\n",
        "    review = soup.get_text()\n",
        "    review = re.sub('[^a-zA-Z]', ' ', review)\n",
        "    review = review.lower()\n",
        "    review = review.split()\n",
        "    review = [word for word in review if not word in set(stopwords.words('english'))]\n",
        "    lem = WordNetLemmatizer()\n",
        "    review = [lem.lemmatize(word) for word in review]\n",
        "    review = ' '.join(review)\n",
        "    corpus_test.append(review)"
      ],
      "execution_count": 23,
      "outputs": []
    },
    {
      "cell_type": "markdown",
      "metadata": {
        "id": "hlIf_IVhER2n",
        "colab_type": "text"
      },
      "source": [
        "Vectorize using TF-IDF technique."
      ]
    },
    {
      "cell_type": "code",
      "metadata": {
        "id": "MGI0lT_WuOLo",
        "colab_type": "code",
        "colab": {}
      },
      "source": [
        "tfidf_vec = TfidfVectorizer(ngram_range=(1, 3))\n",
        "\n",
        "tfidf_vec_train = tfidf_vec.fit_transform(corpus_train)\n",
        "tfidf_vec_test = tfidf_vec.transform(corpus_test)"
      ],
      "execution_count": 24,
      "outputs": []
    },
    {
      "cell_type": "markdown",
      "metadata": {
        "id": "TuGO7uQeEYNr",
        "colab_type": "text"
      },
      "source": [
        "Step 6: Fit the data to ML model."
      ]
    },
    {
      "cell_type": "code",
      "metadata": {
        "id": "9MRiqmJiJvLU",
        "colab_type": "code",
        "colab": {}
      },
      "source": [
        "from sklearn.svm import LinearSVC\n",
        "\n",
        "linear_svc = LinearSVC(C=0.5, random_state=42)\n",
        "linear_svc.fit(tfidf_vec_train, y_train)\n",
        "\n",
        "\n",
        "y_predict = linear_svc.predict(tfidf_vec_test)"
      ],
      "execution_count": 25,
      "outputs": []
    },
    {
      "cell_type": "markdown",
      "metadata": {
        "id": "fcfnpCUOEuI5",
        "colab_type": "text"
      },
      "source": [
        "Let's see the performance."
      ]
    },
    {
      "cell_type": "code",
      "metadata": {
        "id": "Dco5g2P4KVVE",
        "colab_type": "code",
        "colab": {
          "base_uri": "https://localhost:8080/",
          "height": 272
        },
        "outputId": "5c08a4cb-8800-4f95-b78e-38e53b5f8c3c"
      },
      "source": [
        "from sklearn.metrics import classification_report, confusion_matrix, accuracy_score\n",
        "\n",
        "print(\"Classification Report: \\n\", classification_report(y_test, y_predict,target_names=['Negative','Positive']))\n",
        "print(\"Confusion Matrix: \\n\", confusion_matrix(y_test, y_predict))\n",
        "print(\"Accuracy: \\n\", accuracy_score(y_test, y_predict))"
      ],
      "execution_count": 28,
      "outputs": [
        {
          "output_type": "stream",
          "text": [
            "Classification Report: \n",
            "               precision    recall  f1-score   support\n",
            "\n",
            "    Negative       0.92      0.89      0.90      7471\n",
            "    Positive       0.89      0.92      0.90      7529\n",
            "\n",
            "    accuracy                           0.90     15000\n",
            "   macro avg       0.90      0.90      0.90     15000\n",
            "weighted avg       0.90      0.90      0.90     15000\n",
            "\n",
            "Confusion Matrix: \n",
            " [[6616  855]\n",
            " [ 608 6921]]\n",
            "Accuracy: \n",
            " 0.9024666666666666\n"
          ],
          "name": "stdout"
        }
      ]
    },
    {
      "cell_type": "markdown",
      "metadata": {
        "id": "VhloTt5bUcAg",
        "colab_type": "text"
      },
      "source": [
        "Now we will vectorize using CountVectorizer(binary=False) and fit it on LinearSVC model."
      ]
    },
    {
      "cell_type": "code",
      "metadata": {
        "id": "v7JYf8LWQNq5",
        "colab_type": "code",
        "colab": {}
      },
      "source": [
        "count_vec = CountVectorizer(ngram_range=(1, 3), binary=False)\n",
        "count_vec_train = count_vec.fit_transform(corpus_train)\n",
        "count_vec_test = count_vec.transform(corpus_test)"
      ],
      "execution_count": 29,
      "outputs": []
    },
    {
      "cell_type": "code",
      "metadata": {
        "id": "y_9Q_UvjUhET",
        "colab_type": "code",
        "colab": {}
      },
      "source": [
        "linear_svc_count = LinearSVC(C=0.5, random_state=42, max_iter=5000)\n",
        "linear_svc_count.fit(count_vec_train, y_train)\n",
        "\n",
        "predict_count = linear_svc_count.predict(count_vec_test)"
      ],
      "execution_count": 31,
      "outputs": []
    },
    {
      "cell_type": "code",
      "metadata": {
        "id": "BnPnZ10XUnem",
        "colab_type": "code",
        "colab": {
          "base_uri": "https://localhost:8080/",
          "height": 272
        },
        "outputId": "c3c466ed-a234-4363-f91b-18740c042b9f"
      },
      "source": [
        "print(\"Classification Report: \\n\", classification_report(y_test, predict_count,target_names=['Negative','Positive']))\n",
        "print(\"Confusion Matrix: \\n\", confusion_matrix(y_test, predict_count))\n",
        "print(\"Accuracy: \\n\", accuracy_score(y_test, predict_count))"
      ],
      "execution_count": 34,
      "outputs": [
        {
          "output_type": "stream",
          "text": [
            "Classification Report: \n",
            "               precision    recall  f1-score   support\n",
            "\n",
            "    Negative       0.91      0.89      0.90      7471\n",
            "    Positive       0.89      0.91      0.90      7529\n",
            "\n",
            "    accuracy                           0.90     15000\n",
            "   macro avg       0.90      0.90      0.90     15000\n",
            "weighted avg       0.90      0.90      0.90     15000\n",
            "\n",
            "Confusion Matrix: \n",
            " [[6658  813]\n",
            " [ 697 6832]]\n",
            "Accuracy: \n",
            " 0.8993333333333333\n"
          ],
          "name": "stdout"
        }
      ]
    },
    {
      "cell_type": "markdown",
      "metadata": {
        "id": "tBzGz61ufPio",
        "colab_type": "text"
      },
      "source": [
        "So we are getting maximum accuracy using TF-IDF vectorizer."
      ]
    },
    {
      "cell_type": "code",
      "metadata": {
        "id": "HyCfgN9zU4RL",
        "colab_type": "code",
        "colab": {}
      },
      "source": [
        ""
      ],
      "execution_count": null,
      "outputs": []
    }
  ]
}